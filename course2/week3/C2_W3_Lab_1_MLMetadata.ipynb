{
  "nbformat": 4,
  "nbformat_minor": 0,
  "metadata": {
    "colab": {
      "provenance": []
    },
    "kernelspec": {
      "name": "python3",
      "display_name": "Python 3"
    },
    "language_info": {
      "name": "python"
    }
  },
  "cells": [
    {
      "cell_type": "code",
      "source": [
        "pip install ml_metadata"
      ],
      "metadata": {
        "id": "4lCUC6EL1kvm"
      },
      "execution_count": null,
      "outputs": []
    },
    {
      "cell_type": "code",
      "source": [
        "pip install tensorflow-data-validation"
      ],
      "metadata": {
        "id": "efs84S4x24uV"
      },
      "execution_count": null,
      "outputs": []
    },
    {
      "cell_type": "code",
      "source": [
        "\n",
        "from ml_metadata.metadata_store import metadata_store\n",
        "from ml_metadata.proto import metadata_store_pb2\n",
        "\n",
        "import tensorflow as tf\n",
        "print('TF version: {}'.format(tf.__version__))\n",
        "\n",
        "import tensorflow_data_validation as tfdv\n",
        "print('TFDV version: {}'.format(tfdv.version.__version__))\n",
        "\n",
        "import urllib\n",
        "import zipfile\n"
      ],
      "metadata": {
        "colab": {
          "base_uri": "https://localhost:8080/"
        },
        "id": "ZduiqLIBcOT-",
        "outputId": "e0a29137-aa8c-47c5-bcf1-f804c5ef9b50"
      },
      "execution_count": 2,
      "outputs": [
        {
          "output_type": "stream",
          "name": "stdout",
          "text": [
            "TF version: 2.11.0\n",
            "TFDV version: 1.12.0\n"
          ]
        }
      ]
    },
    {
      "cell_type": "markdown",
      "source": [
        "### Download dataset"
      ],
      "metadata": {
        "id": "J4l5N-1rdwOM"
      }
    },
    {
      "cell_type": "code",
      "source": [
        "# Download the zip file from GCP and unzip it\n",
        "url = 'https://storage.googleapis.com/artifacts.tfx-oss-public.appspot.com/datasets/chicago_data.zip'\n",
        "zip, headers = urllib.request.urlretrieve(url)\n",
        "zipfile.ZipFile(zip).extractall()\n",
        "zipfile.ZipFile(zip).close()\n",
        "\n",
        "print(\"Here's what we downloaded:\")\n",
        "!ls -R data\n"
      ],
      "metadata": {
        "colab": {
          "base_uri": "https://localhost:8080/"
        },
        "id": "hFtPpvUPcXaU",
        "outputId": "c487af22-ebcb-4f44-b678-93ea4a9fa805"
      },
      "execution_count": 3,
      "outputs": [
        {
          "output_type": "stream",
          "name": "stdout",
          "text": [
            "Here's what we downloaded:\n",
            "data:\n",
            "eval  serving  train\n",
            "\n",
            "data/eval:\n",
            "data.csv\n",
            "\n",
            "data/serving:\n",
            "data.csv\n",
            "\n",
            "data/train:\n",
            "data.csv\n"
          ]
        }
      ]
    },
    {
      "cell_type": "markdown",
      "source": [
        "### Define ML Metadata's Storage Database"
      ],
      "metadata": {
        "id": "KWwpg3OzSB-T"
      }
    },
    {
      "cell_type": "code",
      "source": [
        "# Instantiate a connection config\n",
        "connection_config = metadata_store_pb2.ConnectionConfig()\n",
        "\n",
        "# Set an empty fake database proto\n",
        "connection_config.fake_database.SetInParent() \n",
        "\n",
        "# Setup the metadata store\n",
        "store = metadata_store.MetadataStore(connection_config)"
      ],
      "metadata": {
        "id": "8fE50J5QceS6"
      },
      "execution_count": 4,
      "outputs": []
    },
    {
      "cell_type": "markdown",
      "source": [
        "### Register ArtifactTypes"
      ],
      "metadata": {
        "id": "EGSzM5pnU-YY"
      }
    },
    {
      "cell_type": "code",
      "source": [
        "# Create ArtifactType for the input dataset\n",
        "data_artifact_type = metadata_store_pb2.ArtifactType()\n",
        "data_artifact_type.name = 'DataSet'\n",
        "data_artifact_type.properties['name'] = metadata_store_pb2.STRING\n",
        "data_artifact_type.properties['split'] = metadata_store_pb2.STRING\n",
        "data_artifact_type.properties['version'] = metadata_store_pb2.INT\n",
        "\n",
        "# Register artifact type to the Metadata Store\n",
        "data_artifact_type_id = store.put_artifact_type(data_artifact_type)\n",
        "\n",
        "# Create ArtifactType for Schema\n",
        "schema_artifact_type = metadata_store_pb2.ArtifactType()\n",
        "schema_artifact_type.name = 'Schema'\n",
        "schema_artifact_type.properties['name'] = metadata_store_pb2.STRING\n",
        "schema_artifact_type.properties['version'] = metadata_store_pb2.INT\n",
        "\n",
        "# Register artifact type to the Metadata Store\n",
        "schema_artifact_type_id = store.put_artifact_type(schema_artifact_type)\n",
        "\n",
        "print('Data artifact type:\\n', data_artifact_type)\n",
        "print('Schema artifact type:\\n', schema_artifact_type)\n",
        "print('Data artifact type ID:', data_artifact_type_id)\n",
        "print('Schema artifact type ID:', schema_artifact_type_id)"
      ],
      "metadata": {
        "colab": {
          "base_uri": "https://localhost:8080/"
        },
        "id": "a3l38ng5U0c3",
        "outputId": "219119cd-e6d9-4439-888c-9815aaa863a0"
      },
      "execution_count": 5,
      "outputs": [
        {
          "output_type": "stream",
          "name": "stdout",
          "text": [
            "Data artifact type:\n",
            " name: \"DataSet\"\n",
            "properties {\n",
            "  key: \"name\"\n",
            "  value: STRING\n",
            "}\n",
            "properties {\n",
            "  key: \"split\"\n",
            "  value: STRING\n",
            "}\n",
            "properties {\n",
            "  key: \"version\"\n",
            "  value: INT\n",
            "}\n",
            "\n",
            "Schema artifact type:\n",
            " name: \"Schema\"\n",
            "properties {\n",
            "  key: \"name\"\n",
            "  value: STRING\n",
            "}\n",
            "properties {\n",
            "  key: \"version\"\n",
            "  value: INT\n",
            "}\n",
            "\n",
            "Data artifact type ID: 10\n",
            "Schema artifact type ID: 11\n"
          ]
        }
      ]
    },
    {
      "cell_type": "markdown",
      "source": [
        "### Register ExecutionType"
      ],
      "metadata": {
        "id": "ll_zFXMDXNgs"
      }
    },
    {
      "cell_type": "code",
      "source": [
        "# Create ExecutionType for Data Validation component\n",
        "dv_execution_type = metadata_store_pb2.ExecutionType()\n",
        "dv_execution_type.name = 'Data Validation'\n",
        "dv_execution_type.properties['state'] = metadata_store_pb2.STRING\n",
        "\n",
        "# Register execution type to the Metadata Store\n",
        "dv_execution_type_id = store.put_execution_type(dv_execution_type)\n",
        "\n",
        "print('Data validation execution type:\\n', dv_execution_type)\n",
        "print('Data validation execution type ID:', dv_execution_type_id)"
      ],
      "metadata": {
        "colab": {
          "base_uri": "https://localhost:8080/"
        },
        "id": "F1liIcZDXMv8",
        "outputId": "dc2252d9-74e6-4acf-e056-00c2ef02cfb5"
      },
      "execution_count": 6,
      "outputs": [
        {
          "output_type": "stream",
          "name": "stdout",
          "text": [
            "Data validation execution type:\n",
            " name: \"Data Validation\"\n",
            "properties {\n",
            "  key: \"state\"\n",
            "  value: STRING\n",
            "}\n",
            "\n",
            "Data validation execution type ID: 12\n"
          ]
        }
      ]
    },
    {
      "cell_type": "markdown",
      "source": [
        "### Generate input artifact unit"
      ],
      "metadata": {
        "id": "msHJqqwWYc56"
      }
    },
    {
      "cell_type": "code",
      "source": [
        "# Declare input artifact of type DataSet\n",
        "data_artifact = metadata_store_pb2.Artifact()\n",
        "data_artifact.uri = './data/train/data.csv'\n",
        "data_artifact.type_id = data_artifact_type_id\n",
        "data_artifact.properties['name'].string_value = 'Chicago Taxi dataset'\n",
        "data_artifact.properties['split'].string_value = 'train'\n",
        "data_artifact.properties['version'].int_value = 1\n",
        "\n",
        "# Submit input artifact to the Metadata Store\n",
        "data_artifact_id = store.put_artifacts([data_artifact])[0]\n",
        "\n",
        "print('Data artifact:\\n', data_artifact)\n",
        "print('Data artifact ID:', data_artifact_id)"
      ],
      "metadata": {
        "colab": {
          "base_uri": "https://localhost:8080/"
        },
        "id": "m9LUruPzXJnM",
        "outputId": "98a017b7-231a-41a8-acd6-c0a4a0035da3"
      },
      "execution_count": 7,
      "outputs": [
        {
          "output_type": "stream",
          "name": "stdout",
          "text": [
            "Data artifact:\n",
            " type_id: 10\n",
            "uri: \"./data/train/data.csv\"\n",
            "properties {\n",
            "  key: \"name\"\n",
            "  value {\n",
            "    string_value: \"Chicago Taxi dataset\"\n",
            "  }\n",
            "}\n",
            "properties {\n",
            "  key: \"split\"\n",
            "  value {\n",
            "    string_value: \"train\"\n",
            "  }\n",
            "}\n",
            "properties {\n",
            "  key: \"version\"\n",
            "  value {\n",
            "    int_value: 1\n",
            "  }\n",
            "}\n",
            "\n",
            "Data artifact ID: 1\n"
          ]
        }
      ]
    },
    {
      "cell_type": "markdown",
      "source": [
        "### Generate execution unit"
      ],
      "metadata": {
        "id": "I6DdWMDBZwjQ"
      }
    },
    {
      "cell_type": "code",
      "source": [
        "# Register the Execution of a Data Validation run\n",
        "dv_execution = metadata_store_pb2.Execution()\n",
        "dv_execution.type_id = dv_execution_type_id\n",
        "dv_execution.properties['state'].string_value = 'RUNNING'\n",
        "\n",
        "# Submit execution unit to the Metadata Store\n",
        "dv_execution_id = store.put_executions([dv_execution])[0]\n",
        "\n",
        "print('Data validation execution:\\n', dv_execution)\n",
        "print('Data validation execution ID:', dv_execution_id)"
      ],
      "metadata": {
        "colab": {
          "base_uri": "https://localhost:8080/"
        },
        "id": "TMr_ZlpwXEf5",
        "outputId": "f6d04935-feb9-422c-ac43-d9070f1e9207"
      },
      "execution_count": 8,
      "outputs": [
        {
          "output_type": "stream",
          "name": "stdout",
          "text": [
            "Data validation execution:\n",
            " type_id: 12\n",
            "properties {\n",
            "  key: \"state\"\n",
            "  value {\n",
            "    string_value: \"RUNNING\"\n",
            "  }\n",
            "}\n",
            "\n",
            "Data validation execution ID: 1\n"
          ]
        }
      ]
    },
    {
      "cell_type": "markdown",
      "source": [
        "### Register input event\n",
        "* An event defines a relationship between artifacts and executions. You will generate the input event relationship for dataset artifact and data validation execution units."
      ],
      "metadata": {
        "id": "7uFQ5NxEamGG"
      }
    },
    {
      "cell_type": "code",
      "source": [
        "# Declare the input event\n",
        "input_event = metadata_store_pb2.Event()\n",
        "input_event.artifact_id = data_artifact_id\n",
        "input_event.execution_id = dv_execution_id\n",
        "input_event.type = metadata_store_pb2.Event.DECLARED_INPUT\n",
        "\n",
        "# Submit input event to the Metadata Store\n",
        "store.put_events([input_event])\n",
        "\n",
        "print('Input event:\\n', input_event)"
      ],
      "metadata": {
        "id": "HxmptwnbalfB",
        "colab": {
          "base_uri": "https://localhost:8080/"
        },
        "outputId": "ae84cefa-6c93-44c4-8a99-042f83b75dc4"
      },
      "execution_count": 9,
      "outputs": [
        {
          "output_type": "stream",
          "name": "stdout",
          "text": [
            "Input event:\n",
            " artifact_id: 1\n",
            "execution_id: 1\n",
            "type: DECLARED_INPUT\n",
            "\n"
          ]
        }
      ]
    },
    {
      "cell_type": "markdown",
      "source": [
        "### Run the TFDV component\n",
        "* You will now run the TFDV component to generate the schema of dataset."
      ],
      "metadata": {
        "id": "WH1r8__g23Z3"
      }
    },
    {
      "cell_type": "code",
      "source": [
        "train_data = './data/train/data.csv'\n",
        "train_stats = tfdv.generate_statistics_from_csv(data_location=train_data)\n",
        "schema = tfdv.infer_schema(statistics=train_stats)\n",
        "\n",
        "schema_file = './schema.pbtxt'\n",
        "tfdv.write_schema_text(schema, schema_file)\n",
        "\n",
        "print(\"Dataset's Schema has been generated at:\", schema_file)"
      ],
      "metadata": {
        "colab": {
          "base_uri": "https://localhost:8080/",
          "height": 166
        },
        "id": "s3g8VUTZ227v",
        "outputId": "b0ab9c54-b0ab-437e-d34c-10277ae0f7d3"
      },
      "execution_count": 10,
      "outputs": [
        {
          "output_type": "stream",
          "name": "stderr",
          "text": [
            "WARNING:apache_beam.runners.interactive.interactive_environment:Dependencies required for Interactive Beam PCollection visualization are not available, please use: `pip install apache-beam[interactive]` to install necessary dependencies to enable all data visualization features.\n"
          ]
        },
        {
          "output_type": "display_data",
          "data": {
            "application/javascript": [
              "\n",
              "        if (typeof window.interactive_beam_jquery == 'undefined') {\n",
              "          var jqueryScript = document.createElement('script');\n",
              "          jqueryScript.src = 'https://code.jquery.com/jquery-3.4.1.slim.min.js';\n",
              "          jqueryScript.type = 'text/javascript';\n",
              "          jqueryScript.onload = function() {\n",
              "            var datatableScript = document.createElement('script');\n",
              "            datatableScript.src = 'https://cdn.datatables.net/1.10.20/js/jquery.dataTables.min.js';\n",
              "            datatableScript.type = 'text/javascript';\n",
              "            datatableScript.onload = function() {\n",
              "              window.interactive_beam_jquery = jQuery.noConflict(true);\n",
              "              window.interactive_beam_jquery(document).ready(function($){\n",
              "                \n",
              "              });\n",
              "            }\n",
              "            document.head.appendChild(datatableScript);\n",
              "          };\n",
              "          document.head.appendChild(jqueryScript);\n",
              "        } else {\n",
              "          window.interactive_beam_jquery(document).ready(function($){\n",
              "            \n",
              "          });\n",
              "        }"
            ]
          },
          "metadata": {}
        },
        {
          "output_type": "stream",
          "name": "stderr",
          "text": [
            "WARNING:apache_beam.io.tfrecordio:Couldn't find python-snappy so the implementation of _TFRecordUtil._masked_crc32c is not as fast as it could be.\n",
            "WARNING:tensorflow:From /usr/local/lib/python3.8/dist-packages/tensorflow_data_validation/utils/statistics_io_impl.py:91: tf_record_iterator (from tensorflow.python.lib.io.tf_record) is deprecated and will be removed in a future version.\n",
            "Instructions for updating:\n",
            "Use eager execution and: \n",
            "`tf.data.TFRecordDataset(path)`\n"
          ]
        },
        {
          "output_type": "stream",
          "name": "stdout",
          "text": [
            "Dataset's Schema has been generated at: ./schema.pbtxt\n"
          ]
        }
      ]
    },
    {
      "cell_type": "markdown",
      "source": [
        "### Generate output artifact unit\n",
        "* Now that the TFDV component has finished running and schema has been generated, you can create the artifact for the generated schema."
      ],
      "metadata": {
        "id": "Kr-uWses4521"
      }
    },
    {
      "cell_type": "code",
      "source": [
        "schema_artifact = metadata_store_pb2.Artifact()\n",
        "schema_artifact.uri = schema_file\n",
        "schema_artifact.type_id = schema_artifact_type_id\n",
        "schema_artifact.properties['version'].int_value = 1\n",
        "schema_artifact.properties['name'].string_value = 'Chicago Taxi Schema'\n",
        "\n",
        "# Submit output artifact to the Metadata Store\n",
        "schema_artifact_id = store.put_artifacts([schema_artifact])[0]\n",
        "\n",
        "print('Schema artifact:\\n', schema_artifact)\n",
        "print('Schema artifact ID:', schema_artifact_id)"
      ],
      "metadata": {
        "id": "KHoz0qfraZ-j",
        "colab": {
          "base_uri": "https://localhost:8080/"
        },
        "outputId": "9a6222b5-ff46-4612-df99-2ed4fb1a83df"
      },
      "execution_count": 11,
      "outputs": [
        {
          "output_type": "stream",
          "name": "stdout",
          "text": [
            "Schema artifact:\n",
            " type_id: 11\n",
            "uri: \"./schema.pbtxt\"\n",
            "properties {\n",
            "  key: \"name\"\n",
            "  value {\n",
            "    string_value: \"Chicago Taxi Schema\"\n",
            "  }\n",
            "}\n",
            "properties {\n",
            "  key: \"version\"\n",
            "  value {\n",
            "    int_value: 1\n",
            "  }\n",
            "}\n",
            "\n",
            "Schema artifact ID: 2\n"
          ]
        }
      ]
    },
    {
      "cell_type": "markdown",
      "source": [
        "### Register output event\n",
        "* Analogous to the input event earlier, you also want to define an output event to record the ouput artifact of a particular execution unit."
      ],
      "metadata": {
        "id": "jSq6-ZEa6EKs"
      }
    },
    {
      "cell_type": "code",
      "source": [
        "output_event = metadata_store_pb2.Event()\n",
        "output_event.artifact_id = schema_artifact_id\n",
        "output_event.execution_id = dv_execution_id\n",
        "output_event.type = metadata_store_pb2.Event.DECLARED_OUTPUT\n",
        "\n",
        "# Submit output event to the Metadata Store\n",
        "store.put_events([output_event])\n",
        "\n",
        "print('Output event:\\n', output_event)"
      ],
      "metadata": {
        "colab": {
          "base_uri": "https://localhost:8080/"
        },
        "id": "Qv4Iu0Cz6DwY",
        "outputId": "2668bd67-d3fb-4d98-943c-673a932a3193"
      },
      "execution_count": 12,
      "outputs": [
        {
          "output_type": "stream",
          "name": "stdout",
          "text": [
            "Output event:\n",
            " artifact_id: 2\n",
            "execution_id: 1\n",
            "type: DECLARED_OUTPUT\n",
            "\n"
          ]
        }
      ]
    },
    {
      "cell_type": "markdown",
      "source": [
        "### Update the execution unit\n",
        "* As the TFDV component has finished running successfully, you need to update the state of the execution unit and record it again to the store."
      ],
      "metadata": {
        "id": "cdxsrBte9VMb"
      }
    },
    {
      "cell_type": "code",
      "source": [
        "# Mark the `state` as `COMPLETED`\n",
        "dv_execution.id = dv_execution_id\n",
        "dv_execution.properties['state'].string_value = 'COMPLETED'\n",
        "\n",
        "# Update execution unit in the Metadata Store\n",
        "store.put_executions([dv_execution])\n",
        "\n",
        "print('Data validation execution:\\n', dv_execution)"
      ],
      "metadata": {
        "colab": {
          "base_uri": "https://localhost:8080/"
        },
        "id": "vZnlmKmb57Z_",
        "outputId": "f9e59d99-121f-44f2-efaa-2593920ad65e"
      },
      "execution_count": 13,
      "outputs": [
        {
          "output_type": "stream",
          "name": "stdout",
          "text": [
            "Data validation execution:\n",
            " id: 1\n",
            "type_id: 12\n",
            "properties {\n",
            "  key: \"state\"\n",
            "  value {\n",
            "    string_value: \"COMPLETED\"\n",
            "  }\n",
            "}\n",
            "\n"
          ]
        }
      ]
    },
    {
      "cell_type": "markdown",
      "source": [
        "### Setting up Context Types and Generating a Context Unit\n",
        "* You can group the artifacts and execution units into a 'Context'. First, you need to define a 'ContextType' which defines the required context. It follows a similar format as artifact and event types."
      ],
      "metadata": {
        "id": "5TOGvSni-6f2"
      }
    },
    {
      "cell_type": "code",
      "source": [
        "# Create a ContextType\n",
        "expt_context_type = metadata_store_pb2.ContextType()\n",
        "expt_context_type.name = 'Experiment'\n",
        "expt_context_type.properties['note'] = metadata_store_pb2.STRING\n",
        "\n",
        "# Register context type to the Metadata Store\n",
        "expt_context_type_id = store.put_context_type(expt_context_type)"
      ],
      "metadata": {
        "id": "j70BzJq6-LYp"
      },
      "execution_count": 14,
      "outputs": []
    },
    {
      "cell_type": "markdown",
      "source": [
        "Similarly, you can create an instance of this context type"
      ],
      "metadata": {
        "id": "3mJvuLTu__W4"
      }
    },
    {
      "cell_type": "code",
      "source": [
        "# Generate the context\n",
        "expt_context = metadata_store_pb2.Context()\n",
        "expt_context.type_id = expt_context_type_id\n",
        "# Give the experiment a name\n",
        "expt_context.name = 'Demo'\n",
        "expt_context.properties['note'].string_value = 'Walkthrough of metadata'\n",
        "\n",
        "# Submit context to the Metadata Store\n",
        "expt_context_id = store.put_contexts([expt_context])[0]\n",
        "\n",
        "print('Experiment Context type:\\n', expt_context_type)\n",
        "print('Experiment Context type ID: ', expt_context_type_id)\n",
        "\n",
        "print('Experiment Context:\\n', expt_context)\n",
        "print('Experiment Context ID: ', expt_context_id)"
      ],
      "metadata": {
        "colab": {
          "base_uri": "https://localhost:8080/"
        },
        "id": "xmuAzp1A_-ft",
        "outputId": "e05c0e6f-6961-4602-fdb5-3979392c934a"
      },
      "execution_count": 15,
      "outputs": [
        {
          "output_type": "stream",
          "name": "stdout",
          "text": [
            "Experiment Context type:\n",
            " name: \"Experiment\"\n",
            "properties {\n",
            "  key: \"note\"\n",
            "  value: STRING\n",
            "}\n",
            "\n",
            "Experiment Context type ID:  13\n",
            "Experiment Context:\n",
            " type_id: 13\n",
            "name: \"Demo\"\n",
            "properties {\n",
            "  key: \"note\"\n",
            "  value {\n",
            "    string_value: \"Walkthrough of metadata\"\n",
            "  }\n",
            "}\n",
            "\n",
            "Experiment Context ID:  1\n"
          ]
        }
      ]
    },
    {
      "cell_type": "markdown",
      "source": [
        "### Generate attribution and association relationships\n"
      ],
      "metadata": {
        "id": "CSIQgfWCAswo"
      }
    },
    {
      "cell_type": "code",
      "source": [
        "# Generate the attribution\n",
        "expt_attribution = metadata_store_pb2.Attribution()\n",
        "expt_attribution.artifact_id = schema_artifact_id\n",
        "expt_attribution.context_id = expt_context_id\n",
        "\n",
        "# Generate the association\n",
        "expt_association = metadata_store_pb2.Association()\n",
        "expt_association.execution_id = dv_execution_id\n",
        "expt_association.context_id = expt_context_id\n",
        "\n",
        "# Submit attribution and association to the Metadata Store\n",
        "store.put_attributions_and_associations([expt_attribution], [expt_association])\n",
        "\n",
        "print('Experiment Attribution:\\n', expt_attribution)\n",
        "print('Experiment Association:\\n', expt_association)"
      ],
      "metadata": {
        "id": "BNXgFBm1An3m",
        "colab": {
          "base_uri": "https://localhost:8080/"
        },
        "outputId": "c8c2a898-5639-4688-9ec4-9661799fb696"
      },
      "execution_count": 16,
      "outputs": [
        {
          "output_type": "stream",
          "name": "stdout",
          "text": [
            "Experiment Attribution:\n",
            " artifact_id: 2\n",
            "context_id: 1\n",
            "\n",
            "Experiment Association:\n",
            " execution_id: 1\n",
            "context_id: 1\n",
            "\n"
          ]
        }
      ]
    },
    {
      "cell_type": "markdown",
      "source": [
        "### Retrieving Information from the Metadata Store"
      ],
      "metadata": {
        "id": "c-QsanDWOEzC"
      }
    },
    {
      "cell_type": "code",
      "source": [
        "store.get_artifact_types()"
      ],
      "metadata": {
        "colab": {
          "base_uri": "https://localhost:8080/"
        },
        "id": "GtYQ1cT7JAI8",
        "outputId": "1d433b3d-8461-417c-9ce0-52c5b500a24d"
      },
      "execution_count": 30,
      "outputs": [
        {
          "output_type": "execute_result",
          "data": {
            "text/plain": [
              "[id: 10\n",
              " name: \"DataSet\"\n",
              " properties {\n",
              "   key: \"name\"\n",
              "   value: STRING\n",
              " }\n",
              " properties {\n",
              "   key: \"split\"\n",
              "   value: STRING\n",
              " }\n",
              " properties {\n",
              "   key: \"version\"\n",
              "   value: INT\n",
              " }, id: 11\n",
              " name: \"Schema\"\n",
              " properties {\n",
              "   key: \"name\"\n",
              "   value: STRING\n",
              " }\n",
              " properties {\n",
              "   key: \"version\"\n",
              "   value: INT\n",
              " }]"
            ]
          },
          "metadata": {},
          "execution_count": 30
        }
      ]
    },
    {
      "cell_type": "code",
      "source": [
        "schema_to_inv = store.get_artifacts_by_type(\"Schema\")[0]\n",
        "schema_to_inv"
      ],
      "metadata": {
        "colab": {
          "base_uri": "https://localhost:8080/"
        },
        "id": "DFH8TKX9JaOd",
        "outputId": "0f791a48-4b33-45d2-d85c-033585a8ea00"
      },
      "execution_count": 32,
      "outputs": [
        {
          "output_type": "execute_result",
          "data": {
            "text/plain": [
              "id: 2\n",
              "type_id: 11\n",
              "uri: \"./schema.pbtxt\"\n",
              "properties {\n",
              "  key: \"name\"\n",
              "  value {\n",
              "    string_value: \"Chicago Taxi Schema\"\n",
              "  }\n",
              "}\n",
              "properties {\n",
              "  key: \"version\"\n",
              "  value {\n",
              "    int_value: 1\n",
              "  }\n",
              "}\n",
              "create_time_since_epoch: 1671431511841\n",
              "last_update_time_since_epoch: 1671431511841"
            ]
          },
          "metadata": {},
          "execution_count": 32
        }
      ]
    },
    {
      "cell_type": "code",
      "source": [
        "# Get events related to the schema id\n",
        "schema_events = store.get_events_by_artifact_ids([schema_to_inv.id])\n",
        "schema_events"
      ],
      "metadata": {
        "colab": {
          "base_uri": "https://localhost:8080/"
        },
        "id": "11Ub6OMaJ_oV",
        "outputId": "9683385d-576a-4818-aa4c-cdee83d46ce6"
      },
      "execution_count": 23,
      "outputs": [
        {
          "output_type": "execute_result",
          "data": {
            "text/plain": [
              "[artifact_id: 2\n",
              " execution_id: 1\n",
              " type: DECLARED_OUTPUT\n",
              " milliseconds_since_epoch: 1671431540918]"
            ]
          },
          "metadata": {},
          "execution_count": 23
        }
      ]
    },
    {
      "cell_type": "code",
      "source": [
        "# Get events related to the output above\n",
        "execution_events = store.get_events_by_execution_ids([schema_events[0].execution_id])\n",
        "\n",
        "print(execution_events)"
      ],
      "metadata": {
        "colab": {
          "base_uri": "https://localhost:8080/"
        },
        "id": "G4aBz_gzKtPZ",
        "outputId": "7e154eff-6e67-4e73-b56b-6a21cc465968"
      },
      "execution_count": 26,
      "outputs": [
        {
          "output_type": "stream",
          "name": "stdout",
          "text": [
            "[artifact_id: 1\n",
            "execution_id: 1\n",
            "type: DECLARED_INPUT\n",
            "milliseconds_since_epoch: 1671431492633\n",
            ", artifact_id: 2\n",
            "execution_id: 1\n",
            "type: DECLARED_OUTPUT\n",
            "milliseconds_since_epoch: 1671431540918\n",
            "]\n"
          ]
        }
      ]
    },
    {
      "cell_type": "code",
      "source": [
        "# Look up the artifact that is a declared input\n",
        "artifact_input = execution_events[0]\n",
        "store.get_artifacts_by_id([artifact_input.artifact_id])"
      ],
      "metadata": {
        "colab": {
          "base_uri": "https://localhost:8080/"
        },
        "id": "dbBQiEPjLdMA",
        "outputId": "0946d983-a032-44ff-edd3-af08a689c58c"
      },
      "execution_count": 29,
      "outputs": [
        {
          "output_type": "execute_result",
          "data": {
            "text/plain": [
              "[id: 1\n",
              " type_id: 10\n",
              " uri: \"./data/train/data.csv\"\n",
              " properties {\n",
              "   key: \"name\"\n",
              "   value {\n",
              "     string_value: \"Chicago Taxi dataset\"\n",
              "   }\n",
              " }\n",
              " properties {\n",
              "   key: \"split\"\n",
              "   value {\n",
              "     string_value: \"train\"\n",
              "   }\n",
              " }\n",
              " properties {\n",
              "   key: \"version\"\n",
              "   value {\n",
              "     int_value: 1\n",
              "   }\n",
              " }\n",
              " create_time_since_epoch: 1671431470707\n",
              " last_update_time_since_epoch: 1671431470707]"
            ]
          },
          "metadata": {},
          "execution_count": 29
        }
      ]
    },
    {
      "cell_type": "code",
      "source": [],
      "metadata": {
        "id": "LuI-IJGeMPbP"
      },
      "execution_count": null,
      "outputs": []
    }
  ]
}