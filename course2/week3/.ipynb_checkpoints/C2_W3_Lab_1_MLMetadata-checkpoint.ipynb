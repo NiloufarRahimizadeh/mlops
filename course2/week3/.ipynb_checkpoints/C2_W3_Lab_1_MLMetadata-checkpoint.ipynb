{
 "cells": [
  {
   "cell_type": "code",
   "execution_count": null,
   "metadata": {
    "id": "4lCUC6EL1kvm"
   },
   "outputs": [],
   "source": [
    "pip install ml_metadata"
   ]
  },
  {
   "cell_type": "code",
   "execution_count": 1,
   "metadata": {},
   "outputs": [
    {
     "name": "stdout",
     "output_type": "stream",
     "text": [
      "Requirement already satisfied: pip in /opt/homebrew/Cellar/jupyterlab/3.4.3/libexec/lib/python3.10/site-packages (22.3.1)\n",
      "Note: you may need to restart the kernel to use updated packages.\n"
     ]
    }
   ],
   "source": [
    "pip install --upgrade pip"
   ]
  },
  {
   "cell_type": "code",
   "execution_count": 2,
   "metadata": {
    "id": "efs84S4x24uV"
   },
   "outputs": [
    {
     "name": "stdout",
     "output_type": "stream",
     "text": [
      "\u001b[31mERROR: Could not find a version that satisfies the requirement tensorflow-data-validation (from versions: none)\u001b[0m\u001b[31m\n",
      "\u001b[0m\u001b[31mERROR: No matching distribution found for tensorflow-data-validation\u001b[0m\u001b[31m\n",
      "\u001b[0mNote: you may need to restart the kernel to use updated packages.\n"
     ]
    }
   ],
   "source": [
    "pip install tensorflow-data-validation"
   ]
  },
  {
   "cell_type": "code",
   "execution_count": null,
   "metadata": {
    "colab": {
     "base_uri": "https://localhost:8080/"
    },
    "id": "ZduiqLIBcOT-",
    "outputId": "e0a29137-aa8c-47c5-bcf1-f804c5ef9b50"
   },
   "outputs": [],
   "source": [
    "\n",
    "from ml_metadata.metadata_store import metadata_store\n",
    "from ml_metadata.proto import metadata_store_pb2\n",
    "\n",
    "import tensorflow as tf\n",
    "print('TF version: {}'.format(tf.__version__))\n",
    "\n",
    "import tensorflow_data_validation as tfdv\n",
    "print('TFDV version: {}'.format(tfdv.version.__version__))\n",
    "\n",
    "import urllib\n",
    "import zipfile\n"
   ]
  },
  {
   "cell_type": "markdown",
   "metadata": {
    "id": "J4l5N-1rdwOM"
   },
   "source": [
    "### Download dataset"
   ]
  },
  {
   "cell_type": "code",
   "execution_count": null,
   "metadata": {
    "colab": {
     "base_uri": "https://localhost:8080/"
    },
    "id": "hFtPpvUPcXaU",
    "outputId": "c487af22-ebcb-4f44-b678-93ea4a9fa805"
   },
   "outputs": [],
   "source": [
    "# Download the zip file from GCP and unzip it\n",
    "url = 'https://storage.googleapis.com/artifacts.tfx-oss-public.appspot.com/datasets/chicago_data.zip'\n",
    "zip, headers = urllib.request.urlretrieve(url)\n",
    "zipfile.ZipFile(zip).extractall()\n",
    "zipfile.ZipFile(zip).close()\n",
    "\n",
    "print(\"Here's what we downloaded:\")\n",
    "!ls -R data\n"
   ]
  },
  {
   "cell_type": "markdown",
   "metadata": {
    "id": "KWwpg3OzSB-T"
   },
   "source": [
    "### Define ML Metadata's Storage Database"
   ]
  },
  {
   "cell_type": "code",
   "execution_count": null,
   "metadata": {
    "id": "8fE50J5QceS6"
   },
   "outputs": [],
   "source": [
    "# Instantiate a connection config\n",
    "connection_config = metadata_store_pb2.ConnectionConfig()\n",
    "\n",
    "# Set an empty fake database proto\n",
    "connection_config.fake_database.SetInParent() \n",
    "\n",
    "# Setup the metadata store\n",
    "store = metadata_store.MetadataStore(connection_config)"
   ]
  },
  {
   "cell_type": "markdown",
   "metadata": {
    "id": "EGSzM5pnU-YY"
   },
   "source": [
    "### Register ArtifactTypes"
   ]
  },
  {
   "cell_type": "code",
   "execution_count": null,
   "metadata": {
    "colab": {
     "base_uri": "https://localhost:8080/"
    },
    "id": "a3l38ng5U0c3",
    "outputId": "219119cd-e6d9-4439-888c-9815aaa863a0"
   },
   "outputs": [],
   "source": [
    "# Create ArtifactType for the input dataset\n",
    "data_artifact_type = metadata_store_pb2.ArtifactType()\n",
    "data_artifact_type.name = 'DataSet'\n",
    "data_artifact_type.properties['name'] = metadata_store_pb2.STRING\n",
    "data_artifact_type.properties['split'] = metadata_store_pb2.STRING\n",
    "data_artifact_type.properties['version'] = metadata_store_pb2.INT\n",
    "\n",
    "# Register artifact type to the Metadata Store\n",
    "data_artifact_type_id = store.put_artifact_type(data_artifact_type)\n",
    "\n",
    "# Create ArtifactType for Schema\n",
    "schema_artifact_type = metadata_store_pb2.ArtifactType()\n",
    "schema_artifact_type.name = 'Schema'\n",
    "schema_artifact_type.properties['name'] = metadata_store_pb2.STRING\n",
    "schema_artifact_type.properties['version'] = metadata_store_pb2.INT\n",
    "\n",
    "# Register artifact type to the Metadata Store\n",
    "schema_artifact_type_id = store.put_artifact_type(schema_artifact_type)\n",
    "\n",
    "print('Data artifact type:\\n', data_artifact_type)\n",
    "print('Schema artifact type:\\n', schema_artifact_type)\n",
    "print('Data artifact type ID:', data_artifact_type_id)\n",
    "print('Schema artifact type ID:', schema_artifact_type_id)"
   ]
  },
  {
   "cell_type": "markdown",
   "metadata": {
    "id": "ll_zFXMDXNgs"
   },
   "source": [
    "### Register ExecutionType"
   ]
  },
  {
   "cell_type": "code",
   "execution_count": null,
   "metadata": {
    "colab": {
     "base_uri": "https://localhost:8080/"
    },
    "id": "F1liIcZDXMv8",
    "outputId": "dc2252d9-74e6-4acf-e056-00c2ef02cfb5"
   },
   "outputs": [],
   "source": [
    "# Create ExecutionType for Data Validation component\n",
    "dv_execution_type = metadata_store_pb2.ExecutionType()\n",
    "dv_execution_type.name = 'Data Validation'\n",
    "dv_execution_type.properties['state'] = metadata_store_pb2.STRING\n",
    "\n",
    "# Register execution type to the Metadata Store\n",
    "dv_execution_type_id = store.put_execution_type(dv_execution_type)\n",
    "\n",
    "print('Data validation execution type:\\n', dv_execution_type)\n",
    "print('Data validation execution type ID:', dv_execution_type_id)"
   ]
  },
  {
   "cell_type": "markdown",
   "metadata": {
    "id": "msHJqqwWYc56"
   },
   "source": [
    "### Generate input artifact unit"
   ]
  },
  {
   "cell_type": "code",
   "execution_count": null,
   "metadata": {
    "colab": {
     "base_uri": "https://localhost:8080/"
    },
    "id": "m9LUruPzXJnM",
    "outputId": "98a017b7-231a-41a8-acd6-c0a4a0035da3"
   },
   "outputs": [],
   "source": [
    "# Declare input artifact of type DataSet\n",
    "data_artifact = metadata_store_pb2.Artifact()\n",
    "data_artifact.uri = './data/train/data.csv'\n",
    "data_artifact.type_id = data_artifact_type_id\n",
    "data_artifact.properties['name'].string_value = 'Chicago Taxi dataset'\n",
    "data_artifact.properties['split'].string_value = 'train'\n",
    "data_artifact.properties['version'].int_value = 1\n",
    "\n",
    "# Submit input artifact to the Metadata Store\n",
    "data_artifact_id = store.put_artifacts([data_artifact])[0]\n",
    "\n",
    "print('Data artifact:\\n', data_artifact)\n",
    "print('Data artifact ID:', data_artifact_id)"
   ]
  },
  {
   "cell_type": "markdown",
   "metadata": {
    "id": "I6DdWMDBZwjQ"
   },
   "source": [
    "### Generate execution unit"
   ]
  },
  {
   "cell_type": "code",
   "execution_count": null,
   "metadata": {
    "colab": {
     "base_uri": "https://localhost:8080/"
    },
    "id": "TMr_ZlpwXEf5",
    "outputId": "f6d04935-feb9-422c-ac43-d9070f1e9207"
   },
   "outputs": [],
   "source": [
    "# Register the Execution of a Data Validation run\n",
    "dv_execution = metadata_store_pb2.Execution()\n",
    "dv_execution.type_id = dv_execution_type_id\n",
    "dv_execution.properties['state'].string_value = 'RUNNING'\n",
    "\n",
    "# Submit execution unit to the Metadata Store\n",
    "dv_execution_id = store.put_executions([dv_execution])[0]\n",
    "\n",
    "print('Data validation execution:\\n', dv_execution)\n",
    "print('Data validation execution ID:', dv_execution_id)"
   ]
  },
  {
   "cell_type": "markdown",
   "metadata": {
    "id": "7uFQ5NxEamGG"
   },
   "source": [
    "### Register input event\n",
    "* An event defines a relationship between artifacts and executions. You will generate the input event relationship for dataset artifact and data validation execution units."
   ]
  },
  {
   "cell_type": "code",
   "execution_count": null,
   "metadata": {
    "colab": {
     "base_uri": "https://localhost:8080/"
    },
    "id": "HxmptwnbalfB",
    "outputId": "ae84cefa-6c93-44c4-8a99-042f83b75dc4"
   },
   "outputs": [],
   "source": [
    "# Declare the input event\n",
    "input_event = metadata_store_pb2.Event()\n",
    "input_event.artifact_id = data_artifact_id\n",
    "input_event.execution_id = dv_execution_id\n",
    "input_event.type = metadata_store_pb2.Event.DECLARED_INPUT\n",
    "\n",
    "# Submit input event to the Metadata Store\n",
    "store.put_events([input_event])\n",
    "\n",
    "print('Input event:\\n', input_event)"
   ]
  },
  {
   "cell_type": "markdown",
   "metadata": {
    "id": "WH1r8__g23Z3"
   },
   "source": [
    "### Run the TFDV component\n",
    "* You will now run the TFDV component to generate the schema of dataset."
   ]
  },
  {
   "cell_type": "code",
   "execution_count": null,
   "metadata": {
    "colab": {
     "base_uri": "https://localhost:8080/",
     "height": 166
    },
    "id": "s3g8VUTZ227v",
    "outputId": "b0ab9c54-b0ab-437e-d34c-10277ae0f7d3"
   },
   "outputs": [],
   "source": [
    "train_data = './data/train/data.csv'\n",
    "train_stats = tfdv.generate_statistics_from_csv(data_location=train_data)\n",
    "schema = tfdv.infer_schema(statistics=train_stats)\n",
    "\n",
    "schema_file = './schema.pbtxt'\n",
    "tfdv.write_schema_text(schema, schema_file)\n",
    "\n",
    "print(\"Dataset's Schema has been generated at:\", schema_file)"
   ]
  },
  {
   "cell_type": "markdown",
   "metadata": {
    "id": "Kr-uWses4521"
   },
   "source": [
    "### Generate output artifact unit\n",
    "* Now that the TFDV component has finished running and schema has been generated, you can create the artifact for the generated schema."
   ]
  },
  {
   "cell_type": "code",
   "execution_count": null,
   "metadata": {
    "colab": {
     "base_uri": "https://localhost:8080/"
    },
    "id": "KHoz0qfraZ-j",
    "outputId": "9a6222b5-ff46-4612-df99-2ed4fb1a83df"
   },
   "outputs": [],
   "source": [
    "schema_artifact = metadata_store_pb2.Artifact()\n",
    "schema_artifact.uri = schema_file\n",
    "schema_artifact.type_id = schema_artifact_type_id\n",
    "schema_artifact.properties['version'].int_value = 1\n",
    "schema_artifact.properties['name'].string_value = 'Chicago Taxi Schema'\n",
    "\n",
    "# Submit output artifact to the Metadata Store\n",
    "schema_artifact_id = store.put_artifacts([schema_artifact])[0]\n",
    "\n",
    "print('Schema artifact:\\n', schema_artifact)\n",
    "print('Schema artifact ID:', schema_artifact_id)"
   ]
  },
  {
   "cell_type": "markdown",
   "metadata": {
    "id": "jSq6-ZEa6EKs"
   },
   "source": [
    "### Register output event\n",
    "* Analogous to the input event earlier, you also want to define an output event to record the ouput artifact of a particular execution unit."
   ]
  },
  {
   "cell_type": "code",
   "execution_count": null,
   "metadata": {
    "colab": {
     "base_uri": "https://localhost:8080/"
    },
    "id": "Qv4Iu0Cz6DwY",
    "outputId": "2668bd67-d3fb-4d98-943c-673a932a3193"
   },
   "outputs": [],
   "source": [
    "output_event = metadata_store_pb2.Event()\n",
    "output_event.artifact_id = schema_artifact_id\n",
    "output_event.execution_id = dv_execution_id\n",
    "output_event.type = metadata_store_pb2.Event.DECLARED_OUTPUT\n",
    "\n",
    "# Submit output event to the Metadata Store\n",
    "store.put_events([output_event])\n",
    "\n",
    "print('Output event:\\n', output_event)"
   ]
  },
  {
   "cell_type": "markdown",
   "metadata": {
    "id": "cdxsrBte9VMb"
   },
   "source": [
    "### Update the execution unit\n",
    "* As the TFDV component has finished running successfully, you need to update the state of the execution unit and record it again to the store."
   ]
  },
  {
   "cell_type": "code",
   "execution_count": null,
   "metadata": {
    "colab": {
     "base_uri": "https://localhost:8080/"
    },
    "id": "vZnlmKmb57Z_",
    "outputId": "f9e59d99-121f-44f2-efaa-2593920ad65e"
   },
   "outputs": [],
   "source": [
    "# Mark the `state` as `COMPLETED`\n",
    "dv_execution.id = dv_execution_id\n",
    "dv_execution.properties['state'].string_value = 'COMPLETED'\n",
    "\n",
    "# Update execution unit in the Metadata Store\n",
    "store.put_executions([dv_execution])\n",
    "\n",
    "print('Data validation execution:\\n', dv_execution)"
   ]
  },
  {
   "cell_type": "markdown",
   "metadata": {
    "id": "5TOGvSni-6f2"
   },
   "source": [
    "### Setting up Context Types and Generating a Context Unit\n",
    "* You can group the artifacts and execution units into a 'Context'. First, you need to define a 'ContextType' which defines the required context. It follows a similar format as artifact and event types."
   ]
  },
  {
   "cell_type": "code",
   "execution_count": null,
   "metadata": {
    "id": "j70BzJq6-LYp"
   },
   "outputs": [],
   "source": [
    "# Create a ContextType\n",
    "expt_context_type = metadata_store_pb2.ContextType()\n",
    "expt_context_type.name = 'Experiment'\n",
    "expt_context_type.properties['note'] = metadata_store_pb2.STRING\n",
    "\n",
    "# Register context type to the Metadata Store\n",
    "expt_context_type_id = store.put_context_type(expt_context_type)"
   ]
  },
  {
   "cell_type": "markdown",
   "metadata": {
    "id": "3mJvuLTu__W4"
   },
   "source": [
    "Similarly, you can create an instance of this context type"
   ]
  },
  {
   "cell_type": "code",
   "execution_count": null,
   "metadata": {
    "colab": {
     "base_uri": "https://localhost:8080/"
    },
    "id": "xmuAzp1A_-ft",
    "outputId": "e05c0e6f-6961-4602-fdb5-3979392c934a"
   },
   "outputs": [],
   "source": [
    "# Generate the context\n",
    "expt_context = metadata_store_pb2.Context()\n",
    "expt_context.type_id = expt_context_type_id\n",
    "# Give the experiment a name\n",
    "expt_context.name = 'Demo'\n",
    "expt_context.properties['note'].string_value = 'Walkthrough of metadata'\n",
    "\n",
    "# Submit context to the Metadata Store\n",
    "expt_context_id = store.put_contexts([expt_context])[0]\n",
    "\n",
    "print('Experiment Context type:\\n', expt_context_type)\n",
    "print('Experiment Context type ID: ', expt_context_type_id)\n",
    "\n",
    "print('Experiment Context:\\n', expt_context)\n",
    "print('Experiment Context ID: ', expt_context_id)"
   ]
  },
  {
   "cell_type": "markdown",
   "metadata": {
    "id": "CSIQgfWCAswo"
   },
   "source": [
    "### Generate attribution and association relationships\n"
   ]
  },
  {
   "cell_type": "code",
   "execution_count": null,
   "metadata": {
    "colab": {
     "base_uri": "https://localhost:8080/"
    },
    "id": "BNXgFBm1An3m",
    "outputId": "c8c2a898-5639-4688-9ec4-9661799fb696"
   },
   "outputs": [],
   "source": [
    "# Generate the attribution\n",
    "expt_attribution = metadata_store_pb2.Attribution()\n",
    "expt_attribution.artifact_id = schema_artifact_id\n",
    "expt_attribution.context_id = expt_context_id\n",
    "\n",
    "# Generate the association\n",
    "expt_association = metadata_store_pb2.Association()\n",
    "expt_association.execution_id = dv_execution_id\n",
    "expt_association.context_id = expt_context_id\n",
    "\n",
    "# Submit attribution and association to the Metadata Store\n",
    "store.put_attributions_and_associations([expt_attribution], [expt_association])\n",
    "\n",
    "print('Experiment Attribution:\\n', expt_attribution)\n",
    "print('Experiment Association:\\n', expt_association)"
   ]
  },
  {
   "cell_type": "markdown",
   "metadata": {
    "id": "c-QsanDWOEzC"
   },
   "source": [
    "### Retrieving Information from the Metadata Store"
   ]
  },
  {
   "cell_type": "code",
   "execution_count": null,
   "metadata": {
    "colab": {
     "base_uri": "https://localhost:8080/"
    },
    "id": "GtYQ1cT7JAI8",
    "outputId": "1d433b3d-8461-417c-9ce0-52c5b500a24d"
   },
   "outputs": [],
   "source": [
    "store.get_artifact_types()"
   ]
  },
  {
   "cell_type": "code",
   "execution_count": null,
   "metadata": {
    "colab": {
     "base_uri": "https://localhost:8080/"
    },
    "id": "DFH8TKX9JaOd",
    "outputId": "0f791a48-4b33-45d2-d85c-033585a8ea00"
   },
   "outputs": [],
   "source": [
    "schema_to_inv = store.get_artifacts_by_type(\"Schema\")[0]\n",
    "schema_to_inv"
   ]
  },
  {
   "cell_type": "code",
   "execution_count": null,
   "metadata": {
    "colab": {
     "base_uri": "https://localhost:8080/"
    },
    "id": "11Ub6OMaJ_oV",
    "outputId": "9683385d-576a-4818-aa4c-cdee83d46ce6"
   },
   "outputs": [],
   "source": [
    "# Get events related to the schema id\n",
    "schema_events = store.get_events_by_artifact_ids([schema_to_inv.id])\n",
    "schema_events"
   ]
  },
  {
   "cell_type": "code",
   "execution_count": null,
   "metadata": {
    "colab": {
     "base_uri": "https://localhost:8080/"
    },
    "id": "G4aBz_gzKtPZ",
    "outputId": "7e154eff-6e67-4e73-b56b-6a21cc465968"
   },
   "outputs": [],
   "source": [
    "# Get events related to the output above\n",
    "execution_events = store.get_events_by_execution_ids([schema_events[0].execution_id])\n",
    "\n",
    "print(execution_events)"
   ]
  },
  {
   "cell_type": "code",
   "execution_count": null,
   "metadata": {
    "colab": {
     "base_uri": "https://localhost:8080/"
    },
    "id": "dbBQiEPjLdMA",
    "outputId": "0946d983-a032-44ff-edd3-af08a689c58c"
   },
   "outputs": [],
   "source": [
    "# Look up the artifact that is a declared input\n",
    "artifact_input = execution_events[0]\n",
    "store.get_artifacts_by_id([artifact_input.artifact_id])"
   ]
  },
  {
   "cell_type": "code",
   "execution_count": 3,
   "metadata": {
    "id": "LuI-IJGeMPbP"
   },
   "outputs": [
    {
     "name": "stdout",
     "output_type": "stream",
     "text": [
      "TF version: 2.9.2\n"
     ]
    }
   ],
   "source": [
    "import tensorflow as tf\n",
    "print('TF version: {}'.format(tf.__version__))"
   ]
  },
  {
   "cell_type": "code",
   "execution_count": 5,
   "metadata": {},
   "outputs": [
    {
     "name": "stdout",
     "output_type": "stream",
     "text": [
      "\u001b[33mWARNING: Skipping tensorflow as it is not installed.\u001b[0m\u001b[33m\n",
      "\u001b[0mNote: you may need to restart the kernel to use updated packages.\n"
     ]
    }
   ],
   "source": [
    "pip uninstall tensorflow==2.9.2 -y"
   ]
  },
  {
   "cell_type": "code",
   "execution_count": null,
   "metadata": {},
   "outputs": [],
   "source": []
  }
 ],
 "metadata": {
  "colab": {
   "provenance": []
  },
  "kernelspec": {
   "display_name": "Python 3 (ipykernel)",
   "language": "python",
   "name": "python3"
  },
  "language_info": {
   "codemirror_mode": {
    "name": "ipython",
    "version": 3
   },
   "file_extension": ".py",
   "mimetype": "text/x-python",
   "name": "python",
   "nbconvert_exporter": "python",
   "pygments_lexer": "ipython3",
   "version": "3.10.5"
  }
 },
 "nbformat": 4,
 "nbformat_minor": 1
}
