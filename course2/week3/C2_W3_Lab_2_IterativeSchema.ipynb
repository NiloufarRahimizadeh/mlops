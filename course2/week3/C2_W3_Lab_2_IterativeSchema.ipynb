{
  "nbformat": 4,
  "nbformat_minor": 0,
  "metadata": {
    "colab": {
      "provenance": []
    },
    "kernelspec": {
      "name": "python3",
      "display_name": "Python 3"
    },
    "language_info": {
      "name": "python"
    }
  },
  "cells": [
    {
      "cell_type": "markdown",
      "source": [
        "# Iterative Schema with TFX and ML Metadata"
      ],
      "metadata": {
        "id": "26pBrvbY4wF9"
      }
    },
    {
      "cell_type": "markdown",
      "source": [
        "### Setup"
      ],
      "metadata": {
        "id": "1dcjpSz-406y"
      }
    },
    {
      "cell_type": "code",
      "source": [
        "pip install tfx"
      ],
      "metadata": {
        "id": "Csod2olL4v3p"
      },
      "execution_count": null,
      "outputs": []
    },
    {
      "cell_type": "code",
      "execution_count": 3,
      "metadata": {
        "id": "hUhkU1Ce3oeP"
      },
      "outputs": [],
      "source": [
        "import tensorflow as tf\n",
        "import tensorflow_data_validation as tfdv\n",
        "\n",
        "from tfx.components import CsvExampleGen\n",
        "from tfx.components import ExampleValidator\n",
        "from tfx.components import SchemaGen\n",
        "from tfx.components import StatisticsGen\n",
        "from tfx.v1.dsl import Importer\n",
        "# from tfx.components import Importer\n",
        "from tfx.types import standard_artifacts\n",
        "\n",
        "from tfx.orchestration.experimental.interactive.interactive_context import InteractiveContext\n",
        "from google.protobuf.json_format import MessageToDict\n",
        "from tensorflow_metadata.proto.v0 import schema_pb2\n",
        "\n",
        "import os\n",
        "import pprint\n",
        "pp = pprint.PrettyPrinter()\n"
      ]
    },
    {
      "cell_type": "code",
      "source": [],
      "metadata": {
        "id": "hLFFnbKX7QFY"
      },
      "execution_count": null,
      "outputs": []
    }
  ]
}